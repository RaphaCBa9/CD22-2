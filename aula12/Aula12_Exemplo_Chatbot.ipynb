{
 "cells": [
  {
   "cell_type": "markdown",
   "metadata": {},
   "source": [
    "___\n",
    "# Exemplo: Distribuição Poisson\n",
    "\n",
    "___\n",
    "## Aula 12"
   ]
  },
  {
   "cell_type": "markdown",
   "metadata": {},
   "source": [
    "## Lista de comandos:\n",
    "\n",
    "Comandos quando $X\\sim Poisson(\\mu)$\n",
    "\n",
    "- $P(X=k)$: `stats.poisson.pmf(k,mu)`\n",
    "- $P(X\\leq k)$: `stats.poisson.cdf(k, mu)`\n",
    "- $E(X)$: `stats.poisson.mean(mu)`\n",
    "- $Var(X)$: `stats.poisson.var(mu)`\n",
    "- $DP(X)$: `stats.poisson.std(mu)`\n",
    "\n",
    "Link: https://docs.scipy.org/doc/scipy/reference/generated/scipy.stats.poisson.html"
   ]
  },
  {
   "cell_type": "code",
   "execution_count": 1,
   "metadata": {},
   "outputs": [],
   "source": [
    "from scipy import stats"
   ]
  },
  {
   "cell_type": "markdown",
   "metadata": {},
   "source": [
    "O número de conversas que se iniciam entre usuário e chatbot em um site e-commerce ocorre a uma taxa média de 4 a cada minuto.\n"
   ]
  },
  {
   "cell_type": "raw",
   "metadata": {},
   "source": [
    "mu : valor médio por minuto\n",
    "mu = 4\n",
    "\n",
    "X: numero de conversas entre usuario e chatbot por minuto\n"
   ]
  },
  {
   "cell_type": "markdown",
   "metadata": {},
   "source": [
    "a) Calcule a probabilidade de ocorrer 3 conversas entre usuário e chatbot em um minuto qualquer do dia?\n",
    "\n",
    "*Resposta esperada: 0.19536681481316454*"
   ]
  },
  {
   "cell_type": "code",
   "execution_count": 2,
   "metadata": {},
   "outputs": [
    {
     "name": "stdout",
     "output_type": "stream",
     "text": [
      "P(X=3) = 0.19537\n"
     ]
    }
   ],
   "source": [
    "mu=4\n",
    "P_Xigual3 = stats.poisson.pmf(3, mu)\n",
    "print(f'P(X=3) = {P_Xigual3:.5f}')"
   ]
  },
  {
   "cell_type": "markdown",
   "metadata": {},
   "source": [
    "b) Calcule a probabilidade de ocorrer **menos de 3** conversas entre usuário e chatbot em um minuto qualquer do dia.\n",
    "\n",
    "*Resposta esperada: 0.23810330555354436*"
   ]
  },
  {
   "cell_type": "code",
   "execution_count": 5,
   "metadata": {},
   "outputs": [
    {
     "name": "stdout",
     "output_type": "stream",
     "text": [
      "P(X<3) = 0.23810\n"
     ]
    }
   ],
   "source": [
    "# P(X < 3) = P(X = 0) + P(X = 1) + P(X = 2)\n",
    "\n",
    "lim = 2\n",
    "P_Xmenorq3 = stats.poisson.cdf(2, mu)\n",
    "print(f'P(X<3) = {P_Xmenorq3:.5f}')"
   ]
  },
  {
   "cell_type": "markdown",
   "metadata": {},
   "source": [
    "c) Calcule a probabilidade de ocorrer **menos de 4** conversas entre usuário e chatbot em um minuto qualquer do dia, **sabendo que houve pelo menos 1 conversa entre usuário e chatbot**.\n",
    "\n",
    "*Resposta esperada: 0.42290016824554516*"
   ]
  },
  {
   "cell_type": "code",
   "execution_count": 11,
   "metadata": {},
   "outputs": [
    {
     "name": "stdout",
     "output_type": "stream",
     "text": [
      "P(X<=4 | X>=1) = 0.42290\n"
     ]
    }
   ],
   "source": [
    "# P(X<4 | X>=1) = P(X<4)/P(X>=1)\n",
    "\n",
    "num = stats.poisson.cdf(3, mu) - stats.poisson.cdf(0, mu)\n",
    "den = 1-stats.poisson.cdf(0, mu)\n",
    "\n",
    "\n",
    "print(f'P(X<=4 | X>=1) = {num/den:.5f}')"
   ]
  },
  {
   "cell_type": "markdown",
   "metadata": {},
   "source": [
    "c') Calcule a probabilidade de ocorrer **menos de 6** conversas entre usuário e chatbot em um minuto qualquer do dia, **sabendo que houve mais do que 2 conversa entre usuário e chatbot**.\n",
    "\n"
   ]
  },
  {
   "cell_type": "code",
   "execution_count": 13,
   "metadata": {},
   "outputs": [
    {
     "name": "stdout",
     "output_type": "stream",
     "text": [
      "P(X<6 | X>=2) = 0.71798\n"
     ]
    }
   ],
   "source": [
    "# p(x<6 | x > 2) = p(x<6 - x<=2) / 1-p(x<2)\n",
    "\n",
    "a = stats.poisson.cdf(5, mu) - stats.poisson.cdf(2, mu)\n",
    "b = 1- stats.poisson.cdf(2, mu)\n",
    "\n",
    "print(f'P(X<6 | X>=2) = {a/b:.5f}')"
   ]
  },
  {
   "cell_type": "markdown",
   "metadata": {},
   "source": [
    "**EXTRA:** Pergunta a cada 2 minutos:\n",
    "Calcule a probabilidade de ocorrem exatamente 3 inícios de conversa a cada **dois minutos** quaisquer do dia? \n",
    "\n",
    "*Resposta esperada: 0.028626144247680996*"
   ]
  },
  {
   "cell_type": "code",
   "execution_count": null,
   "metadata": {},
   "outputs": [],
   "source": [
    "# Coloque seu código aqui"
   ]
  },
  {
   "cell_type": "code",
   "execution_count": null,
   "metadata": {},
   "outputs": [],
   "source": []
  }
 ],
 "metadata": {
  "kernelspec": {
   "display_name": "Python 3.9.12 ('base')",
   "language": "python",
   "name": "python3"
  },
  "language_info": {
   "codemirror_mode": {
    "name": "ipython",
    "version": 3
   },
   "file_extension": ".py",
   "mimetype": "text/x-python",
   "name": "python",
   "nbconvert_exporter": "python",
   "pygments_lexer": "ipython3",
   "version": "3.9.12"
  },
  "vscode": {
   "interpreter": {
    "hash": "8dcc3e1345babda1179f6fdd0aab54adaf420724489c0d41458765ebeec1d2f0"
   }
  }
 },
 "nbformat": 4,
 "nbformat_minor": 2
}
