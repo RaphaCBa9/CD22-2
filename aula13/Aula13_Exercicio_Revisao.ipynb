{
 "cells": [
  {
   "cell_type": "markdown",
   "metadata": {},
   "source": [
    "___\n",
    "# Exercício: Revisão de alguns tópicos Pré Avaliação Intermediária\n",
    "___\n",
    "\n",
    "## Aula 13"
   ]
  },
  {
   "cell_type": "markdown",
   "metadata": {},
   "source": [
    "___\n",
    "Carregando algumas bibliotecas:"
   ]
  },
  {
   "cell_type": "code",
   "execution_count": 4,
   "metadata": {},
   "outputs": [],
   "source": [
    "%matplotlib inline\n",
    "import math\n",
    "import os\n",
    "\n",
    "import matplotlib.pyplot as plt\n",
    "import numpy as np\n",
    "from numpy import arange\n",
    "import pandas as pd\n",
    "\n",
    "from scipy import stats #importa apenas as funções de estatísticas da biblioteca SciPy.\n",
    "\n",
    "from IPython.display import display  # Para ter melhor print."
   ]
  },
  {
   "cell_type": "markdown",
   "metadata": {},
   "source": [
    "___\n",
    "<div id=\"indice\"></div>\n",
    "\n",
    "## Índice\n",
    "\n",
    "- [PERFOMANCE DE ESTUDANTES EM EXAMES](#students)\n",
    "    - [Base de dados e Dicionário das variáveis](#dados)\n",
    "    - [Leitura e Preparo da base de dados](#preparo)\n",
    "    - [EXERCÍCIO 1](#ex1) \n",
    "        - [item (a)](#ex1a)\n",
    "        - [item (b)](#ex1b) \n",
    "        - [item (c)](#ex1c) \n",
    "\n",
    "<br>\n",
    "\n",
    "- [EXERCÍCIO 2](#ex2) \n",
    "    - [item (a)](#ex2a)\n",
    "    - [item (b)](#ex2b) \n",
    "    - [item (c)](#ex2c) \n",
    "\n",
    "<br>\n",
    "\n",
    "- [EXERCÍCIO 3](#ex3) \n",
    "    - [item (a)](#ex3a)\n",
    "    - [item (b)](#ex3b) \n",
    "    - [item (c)](#ex3c) \n",
    "<br>\n",
    "\n",
    "[RESPOSTAS](#resp)"
   ]
  },
  {
   "cell_type": "markdown",
   "metadata": {},
   "source": [
    "___\n",
    "<div id=\"students\"></div>\n",
    "\n",
    "### PERFORMANCE DE ESTUDANTES EM EXAMES\n",
    "\n",
    "<div id=\"dados\"></div>\n",
    "\n",
    "### Base de dados e Dicionário das variáveis:\n",
    "\n",
    "A base de dados foi extraída da plataforma [Kaggle](https://www.kaggle.com/spscientist/students-performance-in-exams) intitulado “Students Performance in Exams”, cujo objetivo principal é verificar a performance do estudante considerando seu *background*. Ainda, para essa avaliação, a base de dados original passou por algumas transformações, como acréscimo de novas variáveis.\n",
    "\n",
    "Essa base de dados possui informação de $1.000$ estudantes.\n",
    "\n",
    "As variáveis apresentadas na base de dados `StudentsPerformance.csv` são:\n",
    " * `gender`: categozido em ['female', 'male'];\n",
    " * `race/ethnicity`: categorizado em ['group A', 'group B', 'group C', 'group D', 'group E'];\n",
    " * `parental level of education`: categorizado em ['some high school', 'high school', 'some college', 'associate's degree', 'bachelor's degree', 'master's degree'], respeitando essa ordem natural;\n",
    " * `lunch`: categorizado em ['free/reduced', 'standard'];\n",
    " * `test preparation course`: categorizado em ['completed', 'none'];\n",
    " * `math score`: nota obtida em matemática, com valor de $0$ a $100$;\n",
    " * `reading score`: nota obtida em leitura, com valor de $0$ a $100$; e\n",
    " * `writing score`: nota obtida em escrita, com valor de $0$ a $100$.\n",
    " \n",
    "<br> \n",
    "\n",
    "Ainda, foram criadas as seguintes variáveis a partir das notas em cada prova:\n",
    " * `Xm`: se a nota de matemática for >= 80, vale 1; caso contrário, vale 0;\n",
    " * `Xr`: se a nota de leitura for >= 80, vale 1; caso contrário, vale 0;\n",
    " * `Xw`: se a nota de escrita for >= 80, vale 1; caso contrário, vale 0;\n",
    " * `Performance`: é definida pela soma de Xm, Xr e Xw. Assim, por exemplo, se `Perfomance` para um estudante for igual a 2, então esse estudante teve score >= 80 nas duas dessas três provas; e de forma análoga para demais caso.\n",
    " \n",
    "Essas variáveis serão criadas rodando alguns códigos a seguir:"
   ]
  },
  {
   "cell_type": "markdown",
   "metadata": {},
   "source": [
    "<div id=\"preparo\"></div>\n",
    "\n",
    "### Leitura e Preparo da base de dados\n",
    "\n",
    "**IMPORTANTE:** Por favor, rodem todos os comandos a seguir antes de chegarno enunciado do Exercício 1."
   ]
  },
  {
   "cell_type": "code",
   "execution_count": 5,
   "metadata": {},
   "outputs": [
    {
     "name": "stdout",
     "output_type": "stream",
     "text": [
      "Esperamos trabalhar no diretório\n",
      "c:\\Users\\Eduardo Monteiro\\Desktop\\CDados\\aula13\n"
     ]
    }
   ],
   "source": [
    "print(\"Esperamos trabalhar no diretório\")\n",
    "print(os.getcwd())"
   ]
  },
  {
   "cell_type": "code",
   "execution_count": 6,
   "metadata": {},
   "outputs": [
    {
     "name": "stdout",
     "output_type": "stream",
     "text": [
      "Parece que o arquivo StudentsPerformance.csv está na mesma pasta do notebook da avaliação, yay!\n",
      "\n"
     ]
    }
   ],
   "source": [
    "filename = 'StudentsPerformance.csv'\n",
    "\n",
    "if filename in os.listdir():\n",
    "    print(f'Parece que o arquivo {filename} está na mesma pasta do notebook da avaliação, yay!\\n')\n",
    "    \n",
    "else:\n",
    "    print(f'Não encontrei o arquivo {filename}.\\n'\n",
    "          f'O notebook e os arquivos de dados desta avaliação devem ser salvos dentro da mesma pasta no seu computador.\\n')"
   ]
  },
  {
   "cell_type": "code",
   "execution_count": 7,
   "metadata": {
    "scrolled": true
   },
   "outputs": [],
   "source": [
    "# Carregando os dados\n",
    "dados = pd.read_csv('StudentsPerformance.csv')"
   ]
  },
  {
   "cell_type": "code",
   "execution_count": 8,
   "metadata": {},
   "outputs": [
    {
     "data": {
      "text/plain": [
       "[Index(['female', 'male'], dtype='object'),\n",
       " Index(['group A', 'group B', 'group C', 'group D', 'group E'], dtype='object'),\n",
       " Index(['some high school', 'high school', 'some college', 'associate's degree',\n",
       "        'bachelor's degree', 'master's degree'],\n",
       "       dtype='object'),\n",
       " Index(['free/reduced', 'standard'], dtype='object'),\n",
       " Index(['completed', 'none'], dtype='object')]"
      ]
     },
     "execution_count": 8,
     "metadata": {},
     "output_type": "execute_result"
    }
   ],
   "source": [
    "# Transforma as cinco primeiras colunas da base de dados como categóricas\n",
    "dados.iloc[:,0:5]=dados.iloc[:,0:5].astype('category')\n",
    "\n",
    "# Faz apenas essa ser ordinal respeitando a ordem das categorias definidas em categories\n",
    "dados['parental level of education'] = pd.Categorical(dados['parental level of education'], \n",
    "                                                      categories=['some high school', 'high school',\n",
    "                                                                  'some college',\n",
    "                                                                  \"associate's degree\",\"bachelor's degree\",\"master's degree\"],\n",
    "                                                      ordered=True)\n",
    "\n",
    "# Visualização das categorias dessas variáveis\n",
    "(lambda mostra_categorias: list(map(lambda x: dados.iloc[:,x].cat.categories,\n",
    "                                    mostra_categorias)))([0,1,2,3,4])"
   ]
  },
  {
   "cell_type": "code",
   "execution_count": 9,
   "metadata": {},
   "outputs": [],
   "source": [
    "# Quantifica como 1, se notas >= 80; caso contrário, como 0\n",
    "umzero = lambda x: 1 if x >= 80 else 0\n",
    "dados['Xm'] = dados['math score'].apply(umzero)\n",
    "dados['Xr'] = dados['reading score'].apply(umzero)\n",
    "dados['Xw'] = dados['writing score'].apply(umzero)"
   ]
  },
  {
   "cell_type": "code",
   "execution_count": 10,
   "metadata": {},
   "outputs": [],
   "source": [
    "# Performance: número de provas com score >= 80 entre as 3 provas avaliadas\n",
    "dados['Performance'] = dados.iloc[:,8:11].sum(axis=1)"
   ]
  },
  {
   "cell_type": "code",
   "execution_count": 11,
   "metadata": {
    "scrolled": true
   },
   "outputs": [
    {
     "data": {
      "text/html": [
       "<div>\n",
       "<style scoped>\n",
       "    .dataframe tbody tr th:only-of-type {\n",
       "        vertical-align: middle;\n",
       "    }\n",
       "\n",
       "    .dataframe tbody tr th {\n",
       "        vertical-align: top;\n",
       "    }\n",
       "\n",
       "    .dataframe thead th {\n",
       "        text-align: right;\n",
       "    }\n",
       "</style>\n",
       "<table border=\"1\" class=\"dataframe\">\n",
       "  <thead>\n",
       "    <tr style=\"text-align: right;\">\n",
       "      <th></th>\n",
       "      <th>gender</th>\n",
       "      <th>race/ethnicity</th>\n",
       "      <th>parental level of education</th>\n",
       "      <th>lunch</th>\n",
       "      <th>test preparation course</th>\n",
       "      <th>math score</th>\n",
       "      <th>reading score</th>\n",
       "      <th>writing score</th>\n",
       "      <th>Xm</th>\n",
       "      <th>Xr</th>\n",
       "      <th>Xw</th>\n",
       "      <th>Performance</th>\n",
       "    </tr>\n",
       "  </thead>\n",
       "  <tbody>\n",
       "    <tr>\n",
       "      <th>0</th>\n",
       "      <td>female</td>\n",
       "      <td>group B</td>\n",
       "      <td>bachelor's degree</td>\n",
       "      <td>standard</td>\n",
       "      <td>none</td>\n",
       "      <td>72</td>\n",
       "      <td>72</td>\n",
       "      <td>74</td>\n",
       "      <td>0</td>\n",
       "      <td>0</td>\n",
       "      <td>0</td>\n",
       "      <td>0</td>\n",
       "    </tr>\n",
       "    <tr>\n",
       "      <th>1</th>\n",
       "      <td>female</td>\n",
       "      <td>group C</td>\n",
       "      <td>some college</td>\n",
       "      <td>standard</td>\n",
       "      <td>completed</td>\n",
       "      <td>69</td>\n",
       "      <td>90</td>\n",
       "      <td>88</td>\n",
       "      <td>0</td>\n",
       "      <td>1</td>\n",
       "      <td>1</td>\n",
       "      <td>2</td>\n",
       "    </tr>\n",
       "    <tr>\n",
       "      <th>2</th>\n",
       "      <td>female</td>\n",
       "      <td>group B</td>\n",
       "      <td>master's degree</td>\n",
       "      <td>standard</td>\n",
       "      <td>none</td>\n",
       "      <td>90</td>\n",
       "      <td>95</td>\n",
       "      <td>93</td>\n",
       "      <td>1</td>\n",
       "      <td>1</td>\n",
       "      <td>1</td>\n",
       "      <td>3</td>\n",
       "    </tr>\n",
       "    <tr>\n",
       "      <th>3</th>\n",
       "      <td>male</td>\n",
       "      <td>group A</td>\n",
       "      <td>associate's degree</td>\n",
       "      <td>free/reduced</td>\n",
       "      <td>none</td>\n",
       "      <td>47</td>\n",
       "      <td>57</td>\n",
       "      <td>44</td>\n",
       "      <td>0</td>\n",
       "      <td>0</td>\n",
       "      <td>0</td>\n",
       "      <td>0</td>\n",
       "    </tr>\n",
       "    <tr>\n",
       "      <th>4</th>\n",
       "      <td>male</td>\n",
       "      <td>group C</td>\n",
       "      <td>some college</td>\n",
       "      <td>standard</td>\n",
       "      <td>none</td>\n",
       "      <td>76</td>\n",
       "      <td>78</td>\n",
       "      <td>75</td>\n",
       "      <td>0</td>\n",
       "      <td>0</td>\n",
       "      <td>0</td>\n",
       "      <td>0</td>\n",
       "    </tr>\n",
       "  </tbody>\n",
       "</table>\n",
       "</div>"
      ],
      "text/plain": [
       "   gender race/ethnicity parental level of education         lunch  \\\n",
       "0  female        group B           bachelor's degree      standard   \n",
       "1  female        group C                some college      standard   \n",
       "2  female        group B             master's degree      standard   \n",
       "3    male        group A          associate's degree  free/reduced   \n",
       "4    male        group C                some college      standard   \n",
       "\n",
       "  test preparation course  math score  reading score  writing score  Xm  Xr  \\\n",
       "0                    none          72             72             74   0   0   \n",
       "1               completed          69             90             88   0   1   \n",
       "2                    none          90             95             93   1   1   \n",
       "3                    none          47             57             44   0   0   \n",
       "4                    none          76             78             75   0   0   \n",
       "\n",
       "   Xw  Performance  \n",
       "0   0            0  \n",
       "1   1            2  \n",
       "2   1            3  \n",
       "3   0            0  \n",
       "4   0            0  "
      ]
     },
     "execution_count": 11,
     "metadata": {},
     "output_type": "execute_result"
    }
   ],
   "source": [
    "# Conteúdo das 5 primeiras linhas da base de dados\n",
    "dados.head()"
   ]
  },
  {
   "cell_type": "code",
   "execution_count": 12,
   "metadata": {
    "scrolled": true
   },
   "outputs": [
    {
     "data": {
      "text/plain": [
       "gender                         category\n",
       "race/ethnicity                 category\n",
       "parental level of education    category\n",
       "lunch                          category\n",
       "test preparation course        category\n",
       "math score                        int64\n",
       "reading score                     int64\n",
       "writing score                     int64\n",
       "Xm                                int64\n",
       "Xr                                int64\n",
       "Xw                                int64\n",
       "Performance                       int64\n",
       "dtype: object"
      ]
     },
     "execution_count": 12,
     "metadata": {},
     "output_type": "execute_result"
    }
   ],
   "source": [
    "dados.dtypes"
   ]
  },
  {
   "cell_type": "markdown",
   "metadata": {},
   "source": [
    "[Voltar ao Índice](#indice) "
   ]
  },
  {
   "cell_type": "markdown",
   "metadata": {},
   "source": [
    "___\n",
    "<div id=\"ex1\"></div>\n",
    "\n",
    "### EXERCÍCIO 1:\n",
    "\n",
    "Num contexto teórico, seja **`Y` o número de provas que um aluno obteve score maior ou igual a 80 entre as 3 provas avaliadas**. Já na base de dados, os resultados empíricos dessa contagem estão na coluna `Performance`, a qual foi construída somando as colunas `Xm`, `Xr` e `Xw`.\n",
    "\n",
    "Assuma que essa variável **`Y` possa ser ajustada pelo modelo binomial com parâmetros $n=3$ e $p=0.21$**, sendo $n$ igual ao total de provas que cada aluno é submetido; e $p$ a probabilidade de um aluno ter score pelo menos 80 em uma prova qualquer.\n",
    "\n",
    "**Responda:**"
   ]
  },
  {
   "cell_type": "markdown",
   "metadata": {},
   "source": [
    "<div id=\"ex1a\"></div>\n",
    "\n",
    "**(a)** \n",
    "Como discutido em sala, uma das suposições da Binomial é ter independência entre as tentativas, ou seja, aqui seria independência entre as notas obtidas por cada aluno.\n",
    "\n",
    "Verifique, por meio de **medidas numéricas** adequada, se essas notas obtidas nas três provas podem ser consideradas independentes entre si. **Interprete os resultados**."
   ]
  },
  {
   "cell_type": "code",
   "execution_count": 13,
   "metadata": {},
   "outputs": [
    {
     "data": {
      "text/plain": [
       "0.5563241159662096"
      ]
     },
     "execution_count": 13,
     "metadata": {},
     "output_type": "execute_result"
    }
   ],
   "source": [
    "dados.Xm.corr(dados.Xr)"
   ]
  },
  {
   "cell_type": "code",
   "execution_count": 14,
   "metadata": {},
   "outputs": [
    {
     "data": {
      "text/plain": [
       "0.4879210138781179"
      ]
     },
     "execution_count": 14,
     "metadata": {},
     "output_type": "execute_result"
    }
   ],
   "source": [
    "dados.Xm.corr(dados.Xw)"
   ]
  },
  {
   "cell_type": "code",
   "execution_count": 15,
   "metadata": {},
   "outputs": [
    {
     "data": {
      "text/plain": [
       "0.7771142200184503"
      ]
     },
     "execution_count": 15,
     "metadata": {},
     "output_type": "execute_result"
    }
   ],
   "source": [
    "dados.Xw.corr(dados.Xr)"
   ]
  },
  {
   "cell_type": "code",
   "execution_count": 16,
   "metadata": {},
   "outputs": [
    {
     "data": {
      "text/plain": [
       "<matplotlib.collections.PathCollection at 0x1eb9004df40>"
      ]
     },
     "execution_count": 16,
     "metadata": {},
     "output_type": "execute_result"
    },
    {
     "data": {
      "image/png": "[encoded data removed]",
      "text/plain": [
       "<Figure size 432x288 with 1 Axes>"
      ]
     },
     "metadata": {
      "needs_background": "light"
     },
     "output_type": "display_data"
    }
   ],
   "source": [
    "plt.scatter(dados['math score'], dados['reading score'])"
   ]
  },
  {
   "cell_type": "markdown",
   "metadata": {},
   "source": [
    "**Independente da sua resposta anterior, considere que a distribuição binomial seja adequada para modelar a variável de interesse nos próximos itens deste exercício!**\n",
    "\n",
    "<div id=\"ex1b\"></div>\n",
    "\n",
    "**(b)** \n",
    "Num contexto teórico, seja **`Y` o número de provas que um aluno obteve score maior ou igual a 80 entre as 3 provas avaliadas**. Assuma que **`Y` segue um binomial com parâmetros $n=3$ e $p=0.21$**, sendo $n$ igual ao total de provas que cada aluno é submetido; e $p$ a probabilidade de um aluno ter score pelo menos 80 em uma prova qualquer.\n",
    "\n",
    "Na base de dados, os resultados empíricos dessa contagem estão na coluna **`Performance`**.\n",
    "\n",
    "Faça:\n",
    " * Considerando o modelo teórico, calcule a probabilidade de cada valor que essa variável `Y` pode assumir. Mostre cada uma dessas probabilidades teóricas.\n",
    " * Considerando a base de dados, calcule as frequências relativas que cada valor da variável `Performance` pode assumir. Mostre cada uma dessas frequências relativas.\n",
    " * Comparando esses resultados (não precisa fazer gráfico), você acha esse modelo adequado aos dados? Justifique. \n",
    " "
   ]
  },
  {
   "cell_type": "code",
   "execution_count": 17,
   "metadata": {},
   "outputs": [
    {
     "data": {
      "text/plain": [
       "0.49303900000000006"
      ]
     },
     "execution_count": 17,
     "metadata": {},
     "output_type": "execute_result"
    }
   ],
   "source": [
    "n = 3\n",
    "p = 0.21\n",
    "P_0 = stats.binom.pmf(0, n, p)\n",
    "P_0"
   ]
  },
  {
   "cell_type": "code",
   "execution_count": 18,
   "metadata": {},
   "outputs": [
    {
     "data": {
      "text/plain": [
       "0.39318300000000006"
      ]
     },
     "execution_count": 18,
     "metadata": {},
     "output_type": "execute_result"
    }
   ],
   "source": [
    "P_1 = stats.binom.pmf(1, n, p)\n",
    "P_1"
   ]
  },
  {
   "cell_type": "code",
   "execution_count": 19,
   "metadata": {},
   "outputs": [
    {
     "data": {
      "text/plain": [
       "0.10451700000000008"
      ]
     },
     "execution_count": 19,
     "metadata": {},
     "output_type": "execute_result"
    }
   ],
   "source": [
    "P_2 = stats.binom.pmf(2, n, p)\n",
    "P_2"
   ]
  },
  {
   "cell_type": "code",
   "execution_count": 20,
   "metadata": {},
   "outputs": [
    {
     "data": {
      "text/plain": [
       "0.009260999999999998"
      ]
     },
     "execution_count": 20,
     "metadata": {},
     "output_type": "execute_result"
    }
   ],
   "source": [
    "P_3 = stats.binom.pmf(3, n, p)\n",
    "P_3"
   ]
  },
  {
   "cell_type": "markdown",
   "metadata": {},
   "source": [
    "P(Y=0) = 0.4930\n",
    "P(Y=1) = 0.3932\n",
    "P(Y=2) = 0.1045\n",
    "P(Y=3) = 0.0093"
   ]
  },
  {
   "cell_type": "code",
   "execution_count": 21,
   "metadata": {},
   "outputs": [
    {
     "name": "stdout",
     "output_type": "stream",
     "text": [
      "P(Y=0)=0.49304\n",
      "P(Y=1)=0.39318\n",
      "P(Y=2)=0.10452\n",
      "P(Y=3)=0.00926\n"
     ]
    }
   ],
   "source": [
    "for i in range(4):\n",
    "    print(f'P(Y={i})={stats.binom.pmf(i, n, p):.5f}')"
   ]
  },
  {
   "cell_type": "code",
   "execution_count": 22,
   "metadata": {},
   "outputs": [
    {
     "data": {
      "text/plain": [
       "0    0.673\n",
       "1    0.098\n",
       "2    0.108\n",
       "3    0.121\n",
       "Name: Performance, dtype: float64"
      ]
     },
     "execution_count": 22,
     "metadata": {},
     "output_type": "execute_result"
    }
   ],
   "source": [
    "dados.Performance.value_counts(True).sort_index()   "
   ]
  },
  {
   "cell_type": "markdown",
   "metadata": {},
   "source": [
    "<div id=\"ex1c\"></div>\n",
    "\n",
    "**(c)** \n",
    "No modelo teórico Binomial, o parâmetro $p$ é definido pela probabilidade de um aluno ter score pelo menos 80 em uma prova qualquer.\n",
    "\n",
    "Com base no conjunto de dados, estime esse parâmetro $p$. "
   ]
  },
  {
   "cell_type": "code",
   "execution_count": 23,
   "metadata": {},
   "outputs": [
    {
     "data": {
      "text/plain": [
       "0.677"
      ]
     },
     "execution_count": 23,
     "metadata": {},
     "output_type": "execute_result"
    }
   ],
   "source": [
    "dados['Performance'].mean()"
   ]
  },
  {
   "cell_type": "code",
   "execution_count": 24,
   "metadata": {},
   "outputs": [
    {
     "data": {
      "text/plain": [
       "0.22566666666666668"
      ]
     },
     "execution_count": 24,
     "metadata": {},
     "output_type": "execute_result"
    }
   ],
   "source": [
    "0.677/3"
   ]
  },
  {
   "cell_type": "markdown",
   "metadata": {},
   "source": [
    "[Respostas](#resp)\n",
    "\n",
    "[Voltar ao Índice](#indice) "
   ]
  },
  {
   "cell_type": "markdown",
   "metadata": {},
   "source": [
    "___\n",
    "<div id=\"ex2\"></div>\n",
    "\n",
    "### EXERCÍCIO 2:\n",
    "\n",
    "O teste CAPTCHA é um teste simples para provar que um acesso remoto está sendo feito por um ser humano e não por *bot* tentando invadir uma conta protegida por senha. Assim, quando um teste não é resolvido, considera-se que houve uma tentativa de invasão por *bot*.\n",
    "\n",
    "Uma empresa tem uma **taxa de $500$ testes CAPTCHA não resolvidos diariamente**, ou seja, $500$ tentativas de invasão por *bot*, em média, diariamente.\n",
    "\n",
    "Essa empresa considera sofrer **ataque de** ***bots*** quando **pelo menos** $540$ testes CAPTCHA não são resolvidos em um dia, ou seja, quando a quantidade de testes CAPTCHA não resolvidos em um dia valem $\\geq 540$.\n",
    "\n",
    "<br>\n",
    "\n",
    "**Responda:**"
   ]
  },
  {
   "cell_type": "markdown",
   "metadata": {},
   "source": [
    "<div id=\"ex2a\"></div>\n",
    "\n",
    "**(a)** \n",
    "Qual é a **probabilidade** dessa empresa sofrer um  **ataque de** ***bots*** em dia qualquer?"
   ]
  },
  {
   "cell_type": "code",
   "execution_count": 25,
   "metadata": {},
   "outputs": [],
   "source": [
    "# mu = 500\n",
    "# P(X>=540) = 1 - P(X<=539)\n",
    "mu = 500\n",
    "P_Xmenor539 = stats.poisson.cdf(539, mu)\n",
    "P_Xmaior540 = 1 - P_Xmenor539"
   ]
  },
  {
   "cell_type": "code",
   "execution_count": 26,
   "metadata": {},
   "outputs": [
    {
     "data": {
      "text/plain": [
       "0.03994463749032684"
      ]
     },
     "execution_count": 26,
     "metadata": {},
     "output_type": "execute_result"
    }
   ],
   "source": [
    "P_Xmaior540 "
   ]
  },
  {
   "cell_type": "markdown",
   "metadata": {},
   "source": [
    "<div id=\"ex2b\"></div>\n",
    "\n",
    "**(b)** \n",
    "Em um dia com mais de $500$ testes CAPTCHA não resolvidos, qual é a **probabilidade** da empresa **não** ter sofrido um  **ataque de** ***bots*** nesse mesmo dia?"
   ]
  },
  {
   "cell_type": "code",
   "execution_count": 27,
   "metadata": {},
   "outputs": [],
   "source": [
    "# P(X>=500 e X<540) = P(X<=539) - P(X>=500)\n",
    "# P(X>=500) = 1 - P(X<=499)\n",
    "# P(X>=500 e X<540) = P(X<=539) - (1 - P(X<=499))\n",
    "P_Xmenor499 = stats.poisson.cdf(500, mu)\n",
    "P_Xmaior500 = 1 - P_Xmenor499"
   ]
  },
  {
   "cell_type": "code",
   "execution_count": 28,
   "metadata": {},
   "outputs": [
    {
     "data": {
      "text/plain": [
       "0.44816424081092177"
      ]
     },
     "execution_count": 28,
     "metadata": {},
     "output_type": "execute_result"
    }
   ],
   "source": [
    "P_Xmaior500menor540 = P_Xmenor539 - P_Xmenor499\n",
    "P_Xmaior500menor540"
   ]
  },
  {
   "cell_type": "code",
   "execution_count": 29,
   "metadata": {},
   "outputs": [
    {
     "data": {
      "text/plain": [
       "0.9181644930751003"
      ]
     },
     "execution_count": 29,
     "metadata": {},
     "output_type": "execute_result"
    }
   ],
   "source": [
    "P = P_Xmaior500menor540/P_Xmaior500\n",
    "P"
   ]
  },
  {
   "cell_type": "markdown",
   "metadata": {},
   "source": [
    "0.9181644930751003"
   ]
  },
  {
   "cell_type": "markdown",
   "metadata": {},
   "source": [
    "[Respostas](#resp)\n",
    "\n",
    "[Voltar ao Índice](#indice) "
   ]
  },
  {
   "cell_type": "markdown",
   "metadata": {},
   "source": [
    "___\n",
    "<div id=\"ex3\"></div>\n",
    "\n",
    "### EXERCÍCIO 3:\n",
    "\n",
    "No artigo de [Moro et al (2014)](https://www.researchgate.net/publication/260805594_A_Data-Driven_Approach_to_Predict_the_Success_of_Bank_Telemarketing), o intuito é prever o sucesso de vendas do telemarketing na venda de um produto bancário, considerando clientes de um banco português abordados entre 2008 e 2013.\n",
    "\n",
    "Para cada cliente, foram mensurados o tempo de duração do contato telefônico (em segundos) e a venda ou não do produto bancário oferecido.\n",
    "\n",
    "Os resultados foram que:\n",
    "  * $88,5\\%$ dos clientes abordados não aderiram ao produto bancário;\n",
    "  * dos clientes que não aderiram ao produto bancário, $77,3\\%$ deles conversaram no máximo 5 minutos no telefone; e\n",
    "  * dos clientes que conversaram no máximo 5 minutos no telefone, $94,9\\%$ deles não aderiram ao produto bancário."
   ]
  },
  {
   "cell_type": "markdown",
   "metadata": {},
   "source": [
    "<div id=\"ex3a\"></div>\n",
    "\n",
    "**(a)** \n",
    "Nesse contexto, calcule a probabilidade de um cliente qualquer conversar no máximo 5 minutos no telefone ao receber um contato telefônico para venda desse produto bancário. "
   ]
  },
  {
   "cell_type": "code",
   "execution_count": 30,
   "metadata": {},
   "outputs": [
    {
     "data": {
      "text/plain": [
       "0.11499999999999999"
      ]
     },
     "execution_count": 30,
     "metadata": {},
     "output_type": "execute_result"
    }
   ],
   "source": [
    "# A: Aderir\n",
    "# C: Conversarno máximo 5 minutos\n",
    "P_Ac = 0.885\n",
    "P_A = 1-P_Ac\n",
    "P_A"
   ]
  },
  {
   "cell_type": "code",
   "execution_count": 31,
   "metadata": {},
   "outputs": [
    {
     "data": {
      "text/plain": [
       "0.6841050000000001"
      ]
     },
     "execution_count": 31,
     "metadata": {},
     "output_type": "execute_result"
    }
   ],
   "source": [
    "P_AceC=0.773*0.885\n",
    "P_AceC"
   ]
  },
  {
   "cell_type": "code",
   "execution_count": 38,
   "metadata": {},
   "outputs": [
    {
     "data": {
      "text/plain": [
       "0.7208693361433088"
      ]
     },
     "execution_count": 38,
     "metadata": {},
     "output_type": "execute_result"
    }
   ],
   "source": [
    "P_C = P_AceC/0.949 #resp\n",
    "P_C"
   ]
  },
  {
   "cell_type": "code",
   "execution_count": 33,
   "metadata": {},
   "outputs": [
    {
     "data": {
      "text/plain": [
       "0.971951695"
      ]
     },
     "execution_count": 33,
     "metadata": {},
     "output_type": "execute_result"
    }
   ],
   "source": [
    "P_Cc=1-P_C\n",
    "P_Cc"
   ]
  },
  {
   "cell_type": "markdown",
   "metadata": {},
   "source": [
    "<div id=\"ex3b\"></div>\n",
    "\n",
    "**(b)** \n",
    "Se um cliente conversar mais do que 5 minutos, qual a probabilidade desse cliente aderir ao produto bancário?"
   ]
  },
  {
   "cell_type": "code",
   "execution_count": 34,
   "metadata": {},
   "outputs": [
    {
     "data": {
      "text/plain": [
       "-0.6560566950000001"
      ]
     },
     "execution_count": 34,
     "metadata": {},
     "output_type": "execute_result"
    }
   ],
   "source": [
    "P_AeC = P_C - P_AceC\n",
    "P_AeC"
   ]
  },
  {
   "cell_type": "code",
   "execution_count": 35,
   "metadata": {},
   "outputs": [
    {
     "data": {
      "text/plain": [
       "0.7710566950000001"
      ]
     },
     "execution_count": 35,
     "metadata": {},
     "output_type": "execute_result"
    }
   ],
   "source": [
    "P_AeCc=P_A-P_AeC\n",
    "P_AeCc"
   ]
  },
  {
   "cell_type": "code",
   "execution_count": 36,
   "metadata": {},
   "outputs": [
    {
     "data": {
      "text/plain": [
       "0.7933076293467445"
      ]
     },
     "execution_count": 36,
     "metadata": {},
     "output_type": "execute_result"
    }
   ],
   "source": [
    "P_A_dado_Cc=P_AeCc/P_Cc #resp\n",
    "P_A_dado_Cc"
   ]
  },
  {
   "cell_type": "markdown",
   "metadata": {},
   "source": [
    "<div id=\"ex3c\"></div>\n",
    "\n",
    "**(c)** Afirmativa: \"Considerando os clientes abordados entre 2008 e 2013, o sucesso da venda do produto bancário oferecido ao cliente depende do tempo de duração do contato telefônico\".\n",
    "\n",
    "Responda se \"Concorda\" ou \"Discorda\" da afirmação **justificando**, adequadamente, com uso de **valores numéricos de probabilidade** desta questão. Caso contrário, a resposta será considerada inválida."
   ]
  },
  {
   "cell_type": "code",
   "execution_count": 37,
   "metadata": {},
   "outputs": [],
   "source": [
    "# ESCREVA SUA RESPOSTA AQUI"
   ]
  },
  {
   "cell_type": "code",
   "execution_count": null,
   "metadata": {},
   "outputs": [],
   "source": []
  },
  {
   "cell_type": "markdown",
   "metadata": {},
   "source": [
    "[Respostas](#resp) \n",
    "\n",
    "[Voltar ao Índice](#indice) "
   ]
  },
  {
   "cell_type": "markdown",
   "metadata": {},
   "source": [
    "___\n",
    "<div id=\"resp\"></div>\n",
    "\n",
    "### Algumas respostas:\n",
    "\n",
    "**EXERCÍCIO 1:**\n",
    "\n",
    " * (a) Discuta usando correlações adequadas\n",
    " * (b) Distribuição de probabilidades da variável aleatória Y:\n",
    "     * P(Y=0) = 0.4930\n",
    "     * P(Y=1) = 0.3932\n",
    "     * P(Y=2) = 0.1045\n",
    "     * P(Y=3) = 0.0093\n",
    " * (b) Frequências relativas da variável Performance:\n",
    "     * 0 $\\quad$ 0.673\n",
    "     * 1 $\\quad$ 0.098\n",
    "     * 2 $\\quad$ 0.108\n",
    "     * 3 $\\quad$ 0.121\n",
    " * (c) Baseando na média da Binomial => E(Y) = np, então p = E(Y)/n. Considerando os dados, p_estimado = (média de Performance)/3 = 0.2256667\n",
    "     \n",
    "**EXERCÍCIO 2:**\n",
    "\n",
    " * (a) 0.03994463749032684\n",
    " * (b) 0.9181644930751003\n",
    "     \n",
    "     \n",
    "**EXERCÍCIO 3:**\n",
    "\n",
    " * (a) 0.7208693361433088\n",
    " * (b) 0.2802833009305572\n",
    " * (c) \"Concorda. Uma possível resposta com olhar de corcondância: A probabilidade de um cliente aderir ao produto é de 12%, entretanto se a ligação dura mais de 5 min, essa probabilidade de adesão aumenta para 28%.\""
   ]
  },
  {
   "cell_type": "code",
   "execution_count": null,
   "metadata": {},
   "outputs": [],
   "source": []
  }
 ],
 "metadata": {
  "hide_input": false,
  "kernelspec": {
   "display_name": "Python 3.9.7 ('base')",
   "language": "python",
   "name": "python3"
  },
  "language_info": {
   "codemirror_mode": {
    "name": "ipython",
    "version": 3
   },
   "file_extension": ".py",
   "mimetype": "text/x-python",
   "name": "python",
   "nbconvert_exporter": "python",
   "pygments_lexer": "ipython3",
   "version": "3.9.7"
  },
  "vscode": {
   "interpreter": {
    "hash": "46ca617a39167ea8eaa9548c288686d2630d0db54633f6ab15efd1fd044bfcde"
   }
  }
 },
 "nbformat": 4,
 "nbformat_minor": 4
}
